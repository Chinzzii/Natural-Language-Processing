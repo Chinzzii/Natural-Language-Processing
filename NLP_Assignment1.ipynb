{
 "cells": [
  {
   "attachments": {},
   "cell_type": "markdown",
   "metadata": {},
   "source": [
    "NLP Assignment 1\n",
    "Name: Chinmay Singhania\n",
    "Roll No: BECOC337"
   ]
  },
  {
   "cell_type": "code",
   "execution_count": 1,
   "metadata": {},
   "outputs": [],
   "source": [
    "import nltk\n",
    "from nltk.tokenize import word_tokenize, WhitespaceTokenizer, WordPunctTokenizer, TreebankWordTokenizer, TweetTokenizer, MWETokenizer\n",
    "from nltk.stem import PorterStemmer, SnowballStemmer\n",
    "from nltk.stem import WordNetLemmatizer\n",
    "from textblob import TextBlob, Word"
   ]
  },
  {
   "cell_type": "code",
   "execution_count": 2,
   "metadata": {},
   "outputs": [],
   "source": [
    "#Sample Sentence\n",
    "sentence = \"My name is Chinmay Singhania, and I'm 22 years old.\""
   ]
  },
  {
   "cell_type": "code",
   "execution_count": 3,
   "metadata": {},
   "outputs": [
    {
     "name": "stdout",
     "output_type": "stream",
     "text": [
      "Whitespace Tokenizer:\n",
      "['My', 'name', 'is', 'Chinmay', 'Singhania,', 'and', \"I'm\", '22', 'years', 'old.']\n"
     ]
    }
   ],
   "source": [
    "#whitespace Tokenizer\n",
    "whitespace_tokens = WhitespaceTokenizer().tokenize(sentence)\n",
    "print(\"Whitespace Tokenizer:\")\n",
    "print(whitespace_tokens)"
   ]
  },
  {
   "cell_type": "code",
   "execution_count": 4,
   "metadata": {},
   "outputs": [
    {
     "name": "stdout",
     "output_type": "stream",
     "text": [
      "Punctuation-based Tokenizer:\n",
      "['My', 'name', 'is', 'Chinmay', 'Singhania', ',', 'and', 'I', \"'\", 'm', '22', 'years', 'old', '.']\n"
     ]
    }
   ],
   "source": [
    "#Punctuation-based Tokenizer\n",
    "punct_tokens = WordPunctTokenizer().tokenize(sentence)\n",
    "print(\"Punctuation-based Tokenizer:\")\n",
    "print(punct_tokens)"
   ]
  },
  {
   "cell_type": "code",
   "execution_count": 5,
   "metadata": {},
   "outputs": [
    {
     "name": "stdout",
     "output_type": "stream",
     "text": [
      "Treebank Tokenizer:\n",
      "['My', 'name', 'is', 'Chinmay', 'Singhania', ',', 'and', 'I', \"'m\", '22', 'years', 'old', '.']\n"
     ]
    }
   ],
   "source": [
    "#Treebank Tokenizer\n",
    "treebank_tokens = TreebankWordTokenizer().tokenize(sentence)\n",
    "print(\"Treebank Tokenizer:\")\n",
    "print(treebank_tokens)"
   ]
  },
  {
   "cell_type": "code",
   "execution_count": 6,
   "metadata": {},
   "outputs": [
    {
     "name": "stdout",
     "output_type": "stream",
     "text": [
      "Tweet Tokenizer:\n",
      "['My', 'name', 'is', 'Chinmay', 'Singhania', ',', 'and', \"I'm\", '22', 'years', 'old', '.']\n"
     ]
    }
   ],
   "source": [
    "#Tweet Tokenizer\n",
    "tweet_tokens = TweetTokenizer().tokenize(sentence)\n",
    "print(\"Tweet Tokenizer:\")\n",
    "print(tweet_tokens)"
   ]
  },
  {
   "cell_type": "code",
   "execution_count": 7,
   "metadata": {},
   "outputs": [
    {
     "name": "stdout",
     "output_type": "stream",
     "text": [
      "MWE Tokenizer:\n",
      "['My', 'name', 'is', 'Chinmay', 'Singhania,', 'and', \"I'm\", '22', 'years', 'old.']\n"
     ]
    }
   ],
   "source": [
    "#MWE Tokenizer\n",
    "mwes = [(\"Natural\", \"Language\"), (\"Computer\", \"Science\")]\n",
    "mwe_tokenizer = MWETokenizer(mwes)\n",
    "mwe_tokens = mwe_tokenizer.tokenize(sentence.split())\n",
    "print(\"MWE Tokenizer:\")\n",
    "print(mwe_tokens)"
   ]
  },
  {
   "cell_type": "code",
   "execution_count": 8,
   "metadata": {},
   "outputs": [],
   "source": [
    "words = [\"program\", \"programs\", \"programmer\", \"programming\", \"programmers\"]"
   ]
  },
  {
   "cell_type": "code",
   "execution_count": 9,
   "metadata": {},
   "outputs": [
    {
     "name": "stdout",
     "output_type": "stream",
     "text": [
      "Porter Stemming:\n",
      "\n",
      "program  :  program\n",
      "programs  :  program\n",
      "programmer  :  programm\n",
      "programming  :  program\n",
      "programmers  :  programm\n"
     ]
    }
   ],
   "source": [
    "#Porter Stemmer\n",
    "ps = PorterStemmer()\n",
    "print(\"Porter Stemming:\\n\")\n",
    "for word in words:\n",
    "    print(word, \" : \", ps.stem(word))"
   ]
  },
  {
   "cell_type": "code",
   "execution_count": 10,
   "metadata": {},
   "outputs": [
    {
     "name": "stdout",
     "output_type": "stream",
     "text": [
      "Snowball Stemming:\n",
      "\n",
      "program  :  program\n",
      "programs  :  program\n",
      "programmer  :  programm\n",
      "programming  :  program\n",
      "programmers  :  programm\n"
     ]
    }
   ],
   "source": [
    "#Snowball Stemmer\n",
    "ss = SnowballStemmer(\"english\")\n",
    "print(\"Snowball Stemming:\\n\")\n",
    "for word in words:\n",
    "    print(word, \" : \", ss.stem(word))"
   ]
  },
  {
   "cell_type": "code",
   "execution_count": 11,
   "metadata": {},
   "outputs": [
    {
     "name": "stderr",
     "output_type": "stream",
     "text": [
      "[nltk_data] Downloading package wordnet to\n",
      "[nltk_data]     C:\\Users\\Chinu\\AppData\\Roaming\\nltk_data...\n",
      "[nltk_data]   Package wordnet is already up-to-date!\n"
     ]
    },
    {
     "data": {
      "text/plain": [
       "True"
      ]
     },
     "execution_count": 11,
     "metadata": {},
     "output_type": "execute_result"
    }
   ],
   "source": [
    "nltk.download('wordnet')"
   ]
  },
  {
   "cell_type": "code",
   "execution_count": 12,
   "metadata": {},
   "outputs": [
    {
     "name": "stdout",
     "output_type": "stream",
     "text": [
      "WordNet Lemmatization:\n",
      "\n",
      "program  :  program\n",
      "programs  :  program\n",
      "programmer  :  programmer\n",
      "programming  :  program\n",
      "programmers  :  programmers\n"
     ]
    }
   ],
   "source": [
    "#WordNet Lemmatizer\n",
    "wnl = WordNetLemmatizer()\n",
    "print(\"WordNet Lemmatization:\\n\")\n",
    "for word in words:\n",
    "    print(word, \" : \", wnl.lemmatize(word, pos='v'))\n"
   ]
  },
  {
   "cell_type": "code",
   "execution_count": 13,
   "metadata": {},
   "outputs": [
    {
     "name": "stdout",
     "output_type": "stream",
     "text": [
      "TextBlob Lemmatization:\n",
      "program  :  program\n",
      "programs  :  program\n",
      "programmer  :  programmer\n",
      "programming  :  programming\n",
      "programmers  :  programmer\n"
     ]
    }
   ],
   "source": [
    "#TextBlob Lemmatizer\n",
    "print(\"TextBlob Lemmatization:\")\n",
    "for word in words:\n",
    "    print(word, \" : \", Word(word).lemmatize())\n"
   ]
  }
 ],
 "metadata": {
  "kernelspec": {
   "display_name": ".venv",
   "language": "python",
   "name": "python3"
  },
  "language_info": {
   "codemirror_mode": {
    "name": "ipython",
    "version": 3
   },
   "file_extension": ".py",
   "mimetype": "text/x-python",
   "name": "python",
   "nbconvert_exporter": "python",
   "pygments_lexer": "ipython3",
   "version": "3.8.2"
  },
  "orig_nbformat": 4
 },
 "nbformat": 4,
 "nbformat_minor": 2
}
