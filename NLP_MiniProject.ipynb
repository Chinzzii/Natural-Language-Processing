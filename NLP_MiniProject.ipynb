{
 "cells": [
  {
   "cell_type": "code",
   "execution_count": 1,
   "metadata": {},
   "outputs": [],
   "source": [
    "import nltk\n",
    "from nltk.stem import WordNetLemmatizer\n",
    "from sklearn.feature_extraction.text import TfidfVectorizer\n",
    "from sklearn.metrics.pairwise import cosine_similarity"
   ]
  },
  {
   "cell_type": "code",
   "execution_count": 2,
   "metadata": {},
   "outputs": [
    {
     "name": "stderr",
     "output_type": "stream",
     "text": [
      "[nltk_data] Error loading punkt: <urlopen error [Errno 11001]\n",
      "[nltk_data]     getaddrinfo failed>\n",
      "[nltk_data] Error loading wordnet: <urlopen error [Errno 11001]\n",
      "[nltk_data]     getaddrinfo failed>\n"
     ]
    },
    {
     "data": {
      "text/plain": [
       "False"
      ]
     },
     "execution_count": 2,
     "metadata": {},
     "output_type": "execute_result"
    }
   ],
   "source": [
    "nltk.download('punkt')\n",
    "nltk.download('wordnet')"
   ]
  },
  {
   "cell_type": "code",
   "execution_count": 3,
   "metadata": {},
   "outputs": [],
   "source": [
    "# Sample training data\n",
    "training_data = [\n",
    "    \"Hello!\",\n",
    "    \"Hi, how can I help you?\",\n",
    "    \"What is your name?\",\n",
    "    \"You can call me ChatBot.\",\n",
    "    \"How are you?\",\n",
    "    \"I'm doing well, thank you!\",\n",
    "    \"Goodbye!\",\n",
    "    \"See you later!\"\n",
    "]"
   ]
  },
  {
   "cell_type": "code",
   "execution_count": 4,
   "metadata": {},
   "outputs": [],
   "source": [
    "# Preprocessing\n",
    "lemmatizer = WordNetLemmatizer()\n",
    "def preprocess_text(text):\n",
    "    tokens = nltk.word_tokenize(text.lower())\n",
    "    lemmatized_tokens = [lemmatizer.lemmatize(token) for token in tokens]\n",
    "    return ' '.join(lemmatized_tokens)\n",
    "\n",
    "corpus = [preprocess_text(text) for text in training_data]\n",
    "tfidf_vectorizer = TfidfVectorizer()\n",
    "tfidf_matrix = tfidf_vectorizer.fit_transform(corpus)"
   ]
  },
  {
   "cell_type": "code",
   "execution_count": 5,
   "metadata": {},
   "outputs": [],
   "source": [
    "# Main function to generate responses\n",
    "def generate_response(user_input):\n",
    "    user_input = preprocess_text(user_input)\n",
    "    input_vector = tfidf_vectorizer.transform([user_input])\n",
    "\n",
    "    # Compute cosine similarity between user input and training data\n",
    "    similarities = cosine_similarity(input_vector, tfidf_matrix)\n",
    "    most_similar_index = similarities.argmax()\n",
    "    \n",
    "    response = training_data[most_similar_index + 1]  # Retrieve response from training data\n",
    "    return response"
   ]
  },
  {
   "cell_type": "code",
   "execution_count": 6,
   "metadata": {},
   "outputs": [
    {
     "name": "stdout",
     "output_type": "stream",
     "text": [
      "ChatBot: Hi, how can I assist you today?\n",
      "ChatBot: Hi, how can I help you?\n",
      "ChatBot: Hi, how can I help you?\n",
      "ChatBot: What is your name?\n",
      "ChatBot: Hi, how can I help you?\n",
      "ChatBot: You can call me ChatBot.\n",
      "ChatBot: You can call me ChatBot.\n",
      "ChatBot: Goodbye!\n"
     ]
    }
   ],
   "source": [
    "# Chat loop\n",
    "print(\"ChatBot: Hi, how can I assist you today?\")\n",
    "while True:\n",
    "    user_input = input(\"User: \")\n",
    "    if user_input.lower() == \"goodbye\":\n",
    "        print(\"ChatBot: Goodbye!\")\n",
    "        break\n",
    "    response = generate_response(user_input)\n",
    "    print(\"ChatBot:\", response)"
   ]
  },
  {
   "cell_type": "code",
   "execution_count": null,
   "metadata": {},
   "outputs": [],
   "source": []
  }
 ],
 "metadata": {
  "kernelspec": {
   "display_name": ".venv",
   "language": "python",
   "name": "python3"
  },
  "language_info": {
   "codemirror_mode": {
    "name": "ipython",
    "version": 3
   },
   "file_extension": ".py",
   "mimetype": "text/x-python",
   "name": "python",
   "nbconvert_exporter": "python",
   "pygments_lexer": "ipython3",
   "version": "3.8.2"
  },
  "orig_nbformat": 4
 },
 "nbformat": 4,
 "nbformat_minor": 2
}
