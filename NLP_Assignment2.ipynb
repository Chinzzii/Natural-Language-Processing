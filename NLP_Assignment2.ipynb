{
 "cells": [
  {
   "attachments": {},
   "cell_type": "markdown",
   "metadata": {},
   "source": [
    "NLP Assignment 2\n",
    "Name: Chinmay Singhania\n",
    "Roll No: BECOC337"
   ]
  },
  {
   "cell_type": "code",
   "execution_count": 68,
   "metadata": {},
   "outputs": [],
   "source": [
    "import pandas as pd\n",
    "from nltk.tokenize import word_tokenize\n",
    "from sklearn.feature_extraction.text import CountVectorizer\n",
    "from sklearn.feature_extraction.text import TfidfVectorizer\n",
    "from gensim.models import Word2Vec\n",
    "import logging\n",
    "logging.basicConfig(format = \"%(levelname)s - %(asctime)s: %(message)s\",datefmt = '%H:%M:%S', level=logging.INFO)"
   ]
  },
  {
   "cell_type": "code",
   "execution_count": 69,
   "metadata": {},
   "outputs": [
    {
     "data": {
      "text/html": [
       "<div>\n",
       "<style scoped>\n",
       "    .dataframe tbody tr th:only-of-type {\n",
       "        vertical-align: middle;\n",
       "    }\n",
       "\n",
       "    .dataframe tbody tr th {\n",
       "        vertical-align: top;\n",
       "    }\n",
       "\n",
       "    .dataframe thead th {\n",
       "        text-align: right;\n",
       "    }\n",
       "</style>\n",
       "<table border=\"1\" class=\"dataframe\">\n",
       "  <thead>\n",
       "    <tr style=\"text-align: right;\">\n",
       "      <th></th>\n",
       "      <th>Make</th>\n",
       "      <th>Model</th>\n",
       "      <th>Year</th>\n",
       "      <th>Engine Fuel Type</th>\n",
       "      <th>Engine HP</th>\n",
       "      <th>Engine Cylinders</th>\n",
       "      <th>Transmission Type</th>\n",
       "      <th>Driven_Wheels</th>\n",
       "      <th>Number of Doors</th>\n",
       "      <th>Market Category</th>\n",
       "      <th>Vehicle Size</th>\n",
       "      <th>Vehicle Style</th>\n",
       "      <th>highway MPG</th>\n",
       "      <th>city mpg</th>\n",
       "      <th>Popularity</th>\n",
       "      <th>MSRP</th>\n",
       "    </tr>\n",
       "  </thead>\n",
       "  <tbody>\n",
       "    <tr>\n",
       "      <th>0</th>\n",
       "      <td>BMW</td>\n",
       "      <td>1 Series M</td>\n",
       "      <td>2011</td>\n",
       "      <td>premium unleaded (required)</td>\n",
       "      <td>335.0</td>\n",
       "      <td>6.0</td>\n",
       "      <td>MANUAL</td>\n",
       "      <td>rear wheel drive</td>\n",
       "      <td>2.0</td>\n",
       "      <td>Factory Tuner,Luxury,High-Performance</td>\n",
       "      <td>Compact</td>\n",
       "      <td>Coupe</td>\n",
       "      <td>26</td>\n",
       "      <td>19</td>\n",
       "      <td>3916</td>\n",
       "      <td>46135</td>\n",
       "    </tr>\n",
       "    <tr>\n",
       "      <th>1</th>\n",
       "      <td>BMW</td>\n",
       "      <td>1 Series</td>\n",
       "      <td>2011</td>\n",
       "      <td>premium unleaded (required)</td>\n",
       "      <td>300.0</td>\n",
       "      <td>6.0</td>\n",
       "      <td>MANUAL</td>\n",
       "      <td>rear wheel drive</td>\n",
       "      <td>2.0</td>\n",
       "      <td>Luxury,Performance</td>\n",
       "      <td>Compact</td>\n",
       "      <td>Convertible</td>\n",
       "      <td>28</td>\n",
       "      <td>19</td>\n",
       "      <td>3916</td>\n",
       "      <td>40650</td>\n",
       "    </tr>\n",
       "    <tr>\n",
       "      <th>2</th>\n",
       "      <td>BMW</td>\n",
       "      <td>1 Series</td>\n",
       "      <td>2011</td>\n",
       "      <td>premium unleaded (required)</td>\n",
       "      <td>300.0</td>\n",
       "      <td>6.0</td>\n",
       "      <td>MANUAL</td>\n",
       "      <td>rear wheel drive</td>\n",
       "      <td>2.0</td>\n",
       "      <td>Luxury,High-Performance</td>\n",
       "      <td>Compact</td>\n",
       "      <td>Coupe</td>\n",
       "      <td>28</td>\n",
       "      <td>20</td>\n",
       "      <td>3916</td>\n",
       "      <td>36350</td>\n",
       "    </tr>\n",
       "    <tr>\n",
       "      <th>3</th>\n",
       "      <td>BMW</td>\n",
       "      <td>1 Series</td>\n",
       "      <td>2011</td>\n",
       "      <td>premium unleaded (required)</td>\n",
       "      <td>230.0</td>\n",
       "      <td>6.0</td>\n",
       "      <td>MANUAL</td>\n",
       "      <td>rear wheel drive</td>\n",
       "      <td>2.0</td>\n",
       "      <td>Luxury,Performance</td>\n",
       "      <td>Compact</td>\n",
       "      <td>Coupe</td>\n",
       "      <td>28</td>\n",
       "      <td>18</td>\n",
       "      <td>3916</td>\n",
       "      <td>29450</td>\n",
       "    </tr>\n",
       "    <tr>\n",
       "      <th>4</th>\n",
       "      <td>BMW</td>\n",
       "      <td>1 Series</td>\n",
       "      <td>2011</td>\n",
       "      <td>premium unleaded (required)</td>\n",
       "      <td>230.0</td>\n",
       "      <td>6.0</td>\n",
       "      <td>MANUAL</td>\n",
       "      <td>rear wheel drive</td>\n",
       "      <td>2.0</td>\n",
       "      <td>Luxury</td>\n",
       "      <td>Compact</td>\n",
       "      <td>Convertible</td>\n",
       "      <td>28</td>\n",
       "      <td>18</td>\n",
       "      <td>3916</td>\n",
       "      <td>34500</td>\n",
       "    </tr>\n",
       "  </tbody>\n",
       "</table>\n",
       "</div>"
      ],
      "text/plain": [
       "  Make       Model  Year             Engine Fuel Type  Engine HP   \n",
       "0  BMW  1 Series M  2011  premium unleaded (required)      335.0  \\\n",
       "1  BMW    1 Series  2011  premium unleaded (required)      300.0   \n",
       "2  BMW    1 Series  2011  premium unleaded (required)      300.0   \n",
       "3  BMW    1 Series  2011  premium unleaded (required)      230.0   \n",
       "4  BMW    1 Series  2011  premium unleaded (required)      230.0   \n",
       "\n",
       "   Engine Cylinders Transmission Type     Driven_Wheels  Number of Doors   \n",
       "0               6.0            MANUAL  rear wheel drive              2.0  \\\n",
       "1               6.0            MANUAL  rear wheel drive              2.0   \n",
       "2               6.0            MANUAL  rear wheel drive              2.0   \n",
       "3               6.0            MANUAL  rear wheel drive              2.0   \n",
       "4               6.0            MANUAL  rear wheel drive              2.0   \n",
       "\n",
       "                         Market Category Vehicle Size Vehicle Style   \n",
       "0  Factory Tuner,Luxury,High-Performance      Compact         Coupe  \\\n",
       "1                     Luxury,Performance      Compact   Convertible   \n",
       "2                Luxury,High-Performance      Compact         Coupe   \n",
       "3                     Luxury,Performance      Compact         Coupe   \n",
       "4                                 Luxury      Compact   Convertible   \n",
       "\n",
       "   highway MPG  city mpg  Popularity   MSRP  \n",
       "0           26        19        3916  46135  \n",
       "1           28        19        3916  40650  \n",
       "2           28        20        3916  36350  \n",
       "3           28        18        3916  29450  \n",
       "4           28        18        3916  34500  "
      ]
     },
     "execution_count": 69,
     "metadata": {},
     "output_type": "execute_result"
    }
   ],
   "source": [
    "df = pd.read_csv('CarDataset.csv')\n",
    "df.head()"
   ]
  },
  {
   "attachments": {},
   "cell_type": "markdown",
   "metadata": {},
   "source": [
    "Data Preprocessing"
   ]
  },
  {
   "cell_type": "code",
   "execution_count": 70,
   "metadata": {},
   "outputs": [
    {
     "data": {
      "text/html": [
       "<div>\n",
       "<style scoped>\n",
       "    .dataframe tbody tr th:only-of-type {\n",
       "        vertical-align: middle;\n",
       "    }\n",
       "\n",
       "    .dataframe tbody tr th {\n",
       "        vertical-align: top;\n",
       "    }\n",
       "\n",
       "    .dataframe thead th {\n",
       "        text-align: right;\n",
       "    }\n",
       "</style>\n",
       "<table border=\"1\" class=\"dataframe\">\n",
       "  <thead>\n",
       "    <tr style=\"text-align: right;\">\n",
       "      <th></th>\n",
       "      <th>clean</th>\n",
       "    </tr>\n",
       "  </thead>\n",
       "  <tbody>\n",
       "    <tr>\n",
       "      <th>0</th>\n",
       "      <td>premium unleaded (required),MANUAL,rear wheel ...</td>\n",
       "    </tr>\n",
       "    <tr>\n",
       "      <th>1</th>\n",
       "      <td>premium unleaded (required),MANUAL,rear wheel ...</td>\n",
       "    </tr>\n",
       "    <tr>\n",
       "      <th>2</th>\n",
       "      <td>premium unleaded (required),MANUAL,rear wheel ...</td>\n",
       "    </tr>\n",
       "    <tr>\n",
       "      <th>3</th>\n",
       "      <td>premium unleaded (required),MANUAL,rear wheel ...</td>\n",
       "    </tr>\n",
       "    <tr>\n",
       "      <th>4</th>\n",
       "      <td>premium unleaded (required),MANUAL,rear wheel ...</td>\n",
       "    </tr>\n",
       "  </tbody>\n",
       "</table>\n",
       "</div>"
      ],
      "text/plain": [
       "                                               clean\n",
       "0  premium unleaded (required),MANUAL,rear wheel ...\n",
       "1  premium unleaded (required),MANUAL,rear wheel ...\n",
       "2  premium unleaded (required),MANUAL,rear wheel ...\n",
       "3  premium unleaded (required),MANUAL,rear wheel ...\n",
       "4  premium unleaded (required),MANUAL,rear wheel ..."
      ]
     },
     "execution_count": 70,
     "metadata": {},
     "output_type": "execute_result"
    }
   ],
   "source": [
    "#New column for combined make and model is created\n",
    "df['Maker_Model'] = df['Make']+\" \"+df['Model']\n",
    "\n",
    "#All the columns containing text are chosen and put in a new dataframe df1\n",
    "df1 = df[['Engine Fuel Type','Transmission Type','Driven_Wheels','Market Category','Vehicle Size','Vehicle Style', 'Maker_Model']]\n",
    "\n",
    "#All the columns combined into one column in df2 dataframe\n",
    "df2 = df1.apply(lambda x: ','.join(x.astype(str)),axis = 1)\n",
    "\n",
    "#A new pandas dataframe is created of name df_clean containing column clean\n",
    "df_clean = pd.DataFrame({'clean':df2}) \n",
    "df_clean.head()"
   ]
  },
  {
   "cell_type": "code",
   "execution_count": 71,
   "metadata": {},
   "outputs": [
    {
     "data": {
      "text/plain": [
       "[['premium unleaded (required)',\n",
       "  'MANUAL',\n",
       "  'rear wheel drive',\n",
       "  'Factory Tuner',\n",
       "  'Luxury',\n",
       "  'High-Performance',\n",
       "  'Compact',\n",
       "  'Coupe',\n",
       "  'BMW 1 Series M'],\n",
       " ['premium unleaded (required)',\n",
       "  'MANUAL',\n",
       "  'rear wheel drive',\n",
       "  'Luxury',\n",
       "  'Performance',\n",
       "  'Compact',\n",
       "  'Convertible',\n",
       "  'BMW 1 Series']]"
      ]
     },
     "execution_count": 71,
     "metadata": {},
     "output_type": "execute_result"
    }
   ],
   "source": [
    "#List of list data corpus for Gensim modelling\n",
    "sent = [row.split(',') for row in df_clean['clean']]\n",
    "sent[:2]"
   ]
  },
  {
   "attachments": {},
   "cell_type": "markdown",
   "metadata": {},
   "source": [
    "Counting Occurences"
   ]
  },
  {
   "cell_type": "code",
   "execution_count": 72,
   "metadata": {},
   "outputs": [
    {
     "data": {
      "text/html": [
       "<div>\n",
       "<style scoped>\n",
       "    .dataframe tbody tr th:only-of-type {\n",
       "        vertical-align: middle;\n",
       "    }\n",
       "\n",
       "    .dataframe tbody tr th {\n",
       "        vertical-align: top;\n",
       "    }\n",
       "\n",
       "    .dataframe thead th {\n",
       "        text-align: right;\n",
       "    }\n",
       "</style>\n",
       "<table border=\"1\" class=\"dataframe\">\n",
       "  <thead>\n",
       "    <tr style=\"text-align: right;\">\n",
       "      <th></th>\n",
       "      <th>10</th>\n",
       "      <th>100</th>\n",
       "      <th>124</th>\n",
       "      <th>12c</th>\n",
       "      <th>15</th>\n",
       "      <th>150</th>\n",
       "      <th>1500</th>\n",
       "      <th>1500hd</th>\n",
       "      <th>16</th>\n",
       "      <th>190</th>\n",
       "      <th>...</th>\n",
       "      <th>xv</th>\n",
       "      <th>yaris</th>\n",
       "      <th>yorker</th>\n",
       "      <th>yukon</th>\n",
       "      <th>z3</th>\n",
       "      <th>z4</th>\n",
       "      <th>z71</th>\n",
       "      <th>z8</th>\n",
       "      <th>zdx</th>\n",
       "      <th>zephyr</th>\n",
       "    </tr>\n",
       "  </thead>\n",
       "  <tbody>\n",
       "    <tr>\n",
       "      <th>0</th>\n",
       "      <td>0</td>\n",
       "      <td>0</td>\n",
       "      <td>0</td>\n",
       "      <td>0</td>\n",
       "      <td>0</td>\n",
       "      <td>0</td>\n",
       "      <td>0</td>\n",
       "      <td>0</td>\n",
       "      <td>0</td>\n",
       "      <td>0</td>\n",
       "      <td>...</td>\n",
       "      <td>0</td>\n",
       "      <td>0</td>\n",
       "      <td>0</td>\n",
       "      <td>0</td>\n",
       "      <td>0</td>\n",
       "      <td>0</td>\n",
       "      <td>0</td>\n",
       "      <td>0</td>\n",
       "      <td>0</td>\n",
       "      <td>0</td>\n",
       "    </tr>\n",
       "    <tr>\n",
       "      <th>1</th>\n",
       "      <td>0</td>\n",
       "      <td>0</td>\n",
       "      <td>0</td>\n",
       "      <td>0</td>\n",
       "      <td>0</td>\n",
       "      <td>0</td>\n",
       "      <td>0</td>\n",
       "      <td>0</td>\n",
       "      <td>0</td>\n",
       "      <td>0</td>\n",
       "      <td>...</td>\n",
       "      <td>0</td>\n",
       "      <td>0</td>\n",
       "      <td>0</td>\n",
       "      <td>0</td>\n",
       "      <td>0</td>\n",
       "      <td>0</td>\n",
       "      <td>0</td>\n",
       "      <td>0</td>\n",
       "      <td>0</td>\n",
       "      <td>0</td>\n",
       "    </tr>\n",
       "    <tr>\n",
       "      <th>2</th>\n",
       "      <td>0</td>\n",
       "      <td>0</td>\n",
       "      <td>0</td>\n",
       "      <td>0</td>\n",
       "      <td>0</td>\n",
       "      <td>0</td>\n",
       "      <td>0</td>\n",
       "      <td>0</td>\n",
       "      <td>0</td>\n",
       "      <td>0</td>\n",
       "      <td>...</td>\n",
       "      <td>0</td>\n",
       "      <td>0</td>\n",
       "      <td>0</td>\n",
       "      <td>0</td>\n",
       "      <td>0</td>\n",
       "      <td>0</td>\n",
       "      <td>0</td>\n",
       "      <td>0</td>\n",
       "      <td>0</td>\n",
       "      <td>0</td>\n",
       "    </tr>\n",
       "    <tr>\n",
       "      <th>3</th>\n",
       "      <td>0</td>\n",
       "      <td>0</td>\n",
       "      <td>0</td>\n",
       "      <td>0</td>\n",
       "      <td>0</td>\n",
       "      <td>0</td>\n",
       "      <td>0</td>\n",
       "      <td>0</td>\n",
       "      <td>0</td>\n",
       "      <td>0</td>\n",
       "      <td>...</td>\n",
       "      <td>0</td>\n",
       "      <td>0</td>\n",
       "      <td>0</td>\n",
       "      <td>0</td>\n",
       "      <td>0</td>\n",
       "      <td>0</td>\n",
       "      <td>0</td>\n",
       "      <td>0</td>\n",
       "      <td>0</td>\n",
       "      <td>0</td>\n",
       "    </tr>\n",
       "    <tr>\n",
       "      <th>4</th>\n",
       "      <td>0</td>\n",
       "      <td>0</td>\n",
       "      <td>0</td>\n",
       "      <td>0</td>\n",
       "      <td>0</td>\n",
       "      <td>0</td>\n",
       "      <td>0</td>\n",
       "      <td>0</td>\n",
       "      <td>0</td>\n",
       "      <td>0</td>\n",
       "      <td>...</td>\n",
       "      <td>0</td>\n",
       "      <td>0</td>\n",
       "      <td>0</td>\n",
       "      <td>0</td>\n",
       "      <td>0</td>\n",
       "      <td>0</td>\n",
       "      <td>0</td>\n",
       "      <td>0</td>\n",
       "      <td>0</td>\n",
       "      <td>0</td>\n",
       "    </tr>\n",
       "  </tbody>\n",
       "</table>\n",
       "<p>5 rows × 845 columns</p>\n",
       "</div>"
      ],
      "text/plain": [
       "   10  100  124  12c  15  150  1500  1500hd  16  190  ...  xv  yaris  yorker   \n",
       "0   0    0    0    0   0    0     0       0   0    0  ...   0      0       0  \\\n",
       "1   0    0    0    0   0    0     0       0   0    0  ...   0      0       0   \n",
       "2   0    0    0    0   0    0     0       0   0    0  ...   0      0       0   \n",
       "3   0    0    0    0   0    0     0       0   0    0  ...   0      0       0   \n",
       "4   0    0    0    0   0    0     0       0   0    0  ...   0      0       0   \n",
       "\n",
       "   yukon  z3  z4  z71  z8  zdx  zephyr  \n",
       "0      0   0   0    0   0    0       0  \n",
       "1      0   0   0    0   0    0       0  \n",
       "2      0   0   0    0   0    0       0  \n",
       "3      0   0   0    0   0    0       0  \n",
       "4      0   0   0    0   0    0       0  \n",
       "\n",
       "[5 rows x 845 columns]"
      ]
     },
     "execution_count": 72,
     "metadata": {},
     "output_type": "execute_result"
    }
   ],
   "source": [
    "cv = CountVectorizer()\n",
    "cv.fit(df2)\n",
    "model = CountVectorizer(ngram_range=(1,1))\n",
    "matrix = model.fit_transform(df2).toarray()\n",
    "count_occurs_df = pd.DataFrame(data=matrix, columns=model.get_feature_names_out())\n",
    "count_occurs_df.head()"
   ]
  },
  {
   "attachments": {},
   "cell_type": "markdown",
   "metadata": {},
   "source": [
    "Normalized Count Occurrences"
   ]
  },
  {
   "cell_type": "code",
   "execution_count": 73,
   "metadata": {},
   "outputs": [
    {
     "data": {
      "text/html": [
       "<div>\n",
       "<style scoped>\n",
       "    .dataframe tbody tr th:only-of-type {\n",
       "        vertical-align: middle;\n",
       "    }\n",
       "\n",
       "    .dataframe tbody tr th {\n",
       "        vertical-align: top;\n",
       "    }\n",
       "\n",
       "    .dataframe thead th {\n",
       "        text-align: right;\n",
       "    }\n",
       "</style>\n",
       "<table border=\"1\" class=\"dataframe\">\n",
       "  <thead>\n",
       "    <tr style=\"text-align: right;\">\n",
       "      <th></th>\n",
       "      <th>Word</th>\n",
       "      <th>Count</th>\n",
       "    </tr>\n",
       "  </thead>\n",
       "  <tbody>\n",
       "    <tr>\n",
       "      <th>395</th>\n",
       "      <td>high</td>\n",
       "      <td>0.25</td>\n",
       "    </tr>\n",
       "    <tr>\n",
       "      <th>261</th>\n",
       "      <td>drive</td>\n",
       "      <td>0.25</td>\n",
       "    </tr>\n",
       "    <tr>\n",
       "      <th>809</th>\n",
       "      <td>wheel</td>\n",
       "      <td>0.25</td>\n",
       "    </tr>\n",
       "    <tr>\n",
       "      <th>563</th>\n",
       "      <td>premium</td>\n",
       "      <td>0.25</td>\n",
       "    </tr>\n",
       "    <tr>\n",
       "      <th>607</th>\n",
       "      <td>rear</td>\n",
       "      <td>0.25</td>\n",
       "    </tr>\n",
       "  </tbody>\n",
       "</table>\n",
       "</div>"
      ],
      "text/plain": [
       "        Word  Count\n",
       "395     high   0.25\n",
       "261    drive   0.25\n",
       "809    wheel   0.25\n",
       "563  premium   0.25\n",
       "607     rear   0.25"
      ]
     },
     "execution_count": 73,
     "metadata": {},
     "output_type": "execute_result"
    }
   ],
   "source": [
    "norm_cv = TfidfVectorizer(use_idf=False, norm='l2')\n",
    "norm_count_occurs = norm_cv.fit_transform(df2)\n",
    "norm_count_occurs_df = pd.DataFrame(\n",
    "    (count, word) for word, count in zip(\n",
    "        norm_count_occurs.toarray().tolist()[0],\n",
    "        norm_cv.get_feature_names_out()\n",
    "    )\n",
    ")\n",
    "norm_count_occurs_df.columns = ['Word', 'Count']\n",
    "norm_count_occurs_df.sort_values(\n",
    "    'Count', ascending=False, inplace=True\n",
    ")\n",
    "norm_count_occurs_df.head()"
   ]
  },
  {
   "attachments": {},
   "cell_type": "markdown",
   "metadata": {},
   "source": [
    "Bag of Words"
   ]
  },
  {
   "cell_type": "code",
   "execution_count": 74,
   "metadata": {},
   "outputs": [
    {
     "name": "stdout",
     "output_type": "stream",
     "text": [
      "['10', '100', '124', '12c', '15', '150', '1500', '1500hd', '16', '190', '200', '200h', '200sx', '200t', '240', '240sx', '250', '2500', '250h', '2dr', '2x', '300', '3000gt', '300h', '300m', '300zx', '323', '330', '350', '350z', '360', '370z', '400', '400h', '420', '430', '450', '450h', '456m', '458', '460', '470', '4c', '4dr', '4runner', '4x', '50', '500', '500e', '500l', '500x', '550', '560', '57', '570', '570s', '575m', '599', '600', '6000', '600h', '612', '62', '626', '650s', '718', '740', '760', '780', '7x', '80', '850', '86', '90', '900', '9000', '911', '928', '929', '940', '944', '960', '968', 'a3', 'a4', 'a5', 'a6', 'a7', 'a8', 'acadia', 'accent', 'acclaim', 'accord', 'achieva', 'activehybrid', 'acura', 'aerio', 'aerostar', 'alero', 'alfa', 'all', 'allante', 'allroad', 'alltrack', 'alpina', 'altima', 'am', 'amanti', 'amg', 'and', 'armada', 'arnage', 'aspen', 'aspire', 'aston', 'astro', 'ats', 'audi', 'aurora', 'automated_manual', 'automatic', 'avalanche', 'avalon', 'avenger', 'aventador', 'avenue', 'aveo', 'aviator', 'axxess', 'azera', 'aztek', 'azure', 'b6', 'b7', 'b9', 'baja', 'baron', 'beetle', 'bentley', 'benz', 'beretta', 'berlinetta', 'black', 'blackwood', 'blazer', 'bmw', 'bolt', 'bonneville', 'borrego', 'boxster', 'bravada', 'breeze', 'bronco', 'brooklands', 'brougham', 'brz', 'bugatti', 'buick', 'c3', 'c30', 'c36', 'c43', 'c70', 'c8', 'cab', 'cabrio', 'cabriolet', 'cadenza', 'cadillac', 'calais', 'caliber', 'california', 'camaro', 'camry', 'canyon', 'caprice', 'captiva', 'car', 'caravan', 'cargo', 'carlo', 'carrera', 'cascada', 'catera', 'cavalier', 'cayenne', 'cayman', 'cc', 'celebrity', 'celica', 'century', 'challenger', 'charger', 'chevrolet', 'chevy', 'chrysler', 'ciera', 'cirrus', 'city', 'civic', 'cl', 'cla', 'class', 'classic', 'clk', 'cls', 'cobalt', 'cobra', 'colorado', 'colt', 'compact', 'concorde', 'connect', 'continental', 'contour', 'convertible', 'corniche', 'corolla', 'corrado', 'corsica', 'corvette', 'country', 'coupe', 'cr', 'cressida', 'crew', 'cross', 'crosscabriolet', 'crossfire', 'crossover', 'crosstour', 'crosstrek', 'crown', 'cruiser', 'cruze', 'crx', 'ct', 'ct6', 'cts', 'cube', 'custom', 'cutlass', 'cx', 'dakota', 'dart', 'dawn', 'daytona', 'db7', 'db9', 'dbs', 'defender', 'del', 'denali', 'deville', 'diablo', 'diamante', 'diamond', 'diesel', 'direct_drive', 'discovery', 'dodge', 'drive', 'drophead', 'dts', 'durango', 'dynasty', 'e55', 'e85', 'echo', 'eclipse', 'edge', 'edition', 'eight', 'eighty', 'elantra', 'eldorado', 'electra', 'electric', 'element', 'elise', 'enclave', 'encore', 'endeavor', 'entourage', 'envision', 'envoy', 'enzo', 'eos', 'equator', 'equinox', 'equus', 'es', 'escalade', 'escape', 'escort', 'esprit', 'estate', 'esteem', 'esv', 'eurovan', 'ev', 'evolution', 'evoque', 'evora', 'ex', 'ex35', 'excel', 'exige', 'exotic', 'expedition', 'explorer', 'expo', 'express', 'ext', 'extended', 'f12', 'f430', 'factory', 'fe', 'ferrari', 'festiva', 'ff', 'fiat', 'fiesta', 'final', 'firebird', 'fit', 'five', 'fj', 'fleetwood', 'flex', 'flying', 'focus', 'ford', 'forenza', 'forester', 'forte', 'four', 'fox', 'fr', 'freelander', 'freestar', 'freestyle', 'front', 'frontier', 'fuel', 'fusion', 'fx', 'fx35', 'fx45', 'fx50', 'g20', 'g3', 'g35', 'g37', 'g4', 'g5', 'g6', 'g8', 'g80', 'galant', 'gallardo', 'gas', 'genesis', 'ghibli', 'ghost', 'gl', 'gla', 'glc', 'gle', 'gli', 'glk', 'gls', 'gmc', 'golf', 'gran', 'grand', 'gransport', 'granturismo', 'griffin', 'gs', 'gt', 'gt3', 'gt350', 'gt500', 'gtc', 'gti', 'gto', 'gts', 'gx', 'h3', 'h3t', 'hatchback', 'heritage', 'hhr', 'high', 'highlander', 'honda', 'horizon', 'hr', 'hs', 'hummer', 'hundred', 'huracan', 'hybrid', 'hyundai', 'i3', 'i30', 'i35', 'ia', 'ii', 'ilx', 'im', 'impala', 'imperial', 'impreza', 'in', 'infiniti', 'insight', 'integra', 'intrepid', 'intrigue', 'iq', 'is', 'isr', 'italia', 'j30', 'jetta', 'jimmy', 'journey', 'juke', 'justy', 'jx', 'k900', 'kia', 'kizashi', 'lacrosse', 'lamborghini', 'lancer', 'land', 'landaulet', 'large', 'laser', 'le', 'leaf', 'legacy', 'legend', 'lesabre', 'levante', 'lexus', 'lfa', 'lhs', 'lightning', 'limited', 'lincoln', 'lotus', 'loyale', 'lr2', 'lr3', 'lr4', 'ls', 'lss', 'lt', 'ltd', 'lucerne', 'lumina', 'luxury', 'lx', 'm2', 'm3', 'm30', 'm35', 'm37', 'm4', 'm45', 'm5', 'm56', 'm6', 'macan', 'magnum', 'malibu', 'mans', 'manual', 'mark', 'martin', 'maserati', 'matrix', 'max', 'maxima', 'maxx', 'maybach', 'mazda', 'mazdaspeed', 'mclaren', 'mdx', 'mercedes', 'metris', 'metro', 'miata', 'midsize', 'miev', 'mighty', 'millenia', 'minivan', 'mirage', 'mitsubishi', 'mkc', 'mks', 'mkt', 'mkx', 'mkz', 'ml55', 'model', 'monaco', 'montana', 'monte', 'montero', 'mp4', 'mpv', 'mr2', 'mulsanne', 'murano', 'murcielago', 'mustang', 'mx', 'nan', 'natural', 'navajo', 'navigator', 'neon', 'new', 'ninety', 'nissan', 'nitro', 'note', 'nsx', 'nv200', 'nx', 'odyssey', 'oldsmobile', 'omni', 'optima', 'outback', 'outlander', 'pacifica', 'panamera', 'park', 'paseo', 'passat', 'passenger', 'passport', 'pathfinder', 'performance', 'phaeton', 'phantom', 'pickup', 'pilot', 'plug', 'plymouth', 'pontiac', 'porsche', 'precis', 'prelude', 'premium', 'previa', 'prime', 'prius', 'prix', 'prizm', 'probe', 'protege', 'protege5', 'prowler', 'pt', 'pulsar', 'q3', 'q40', 'q45', 'q5', 'q50', 'q60', 'q7', 'q70', 'quattro', 'quattroporte', 'quest', 'qx', 'qx4', 'qx50', 'qx56', 'qx60', 'qx70', 'qx80', 'r32', 'r8', 'rabbit', 'raider', 'rainier', 'rally', 'ram', 'ramcharger', 'range', 'ranger', 'rapide', 'rav4', 'rc', 'rdx', 'rear', 'reatta', 'recommended', 'regal', 'regency', 'regular', 'rendezvous', 'reno', 'required', 'reventon', 'ridgeline', 'rio', 'riviera', 'rl', 'rlx', 'roadmaster', 'rogue', 'rolls', 'romeo', 'rondo', 'routan', 'rover', 'royale', 'royce', 'rs', 'rsx', 'rx', 's2000', 's3', 's4', 's40', 's5', 's6', 's60', 's7', 's70', 's8', 's80', 's90', 'saab', 'safari', 'samurai', 'santa', 'savana', 'sc', 'scaglietti', 'scion', 'scoupe', 'sebring', 'sedan', 'sedona', 'select', 'sentra', 'sephia', 'sequoia', 'seraph', 'series', 'seville', 'shadow', 'shelby', 'sidekick', 'sienna', 'sierra', 'sigma', 'silhouette', 'silver', 'silverado', 'sixty', 'skylark', 'sl', 'slc', 'slk', 'slr', 'sls', 'slx', 'sol', 'solara', 'solstice', 'sonata', 'sonic', 'sonoma', 'sorento', 'soul', 'spark', 'special', 'spectra', 'speed', 'spider', 'spirit', 'sport', 'sportage', 'sportback', 'sportvan', 'sportwagen', 'spur', 'spyder', 'spyker', 'sq5', 'srt', 'srx', 'ss', 'ssr', 'st', 'stanza', 'stealth', 'stingray', 'stratus', 'sts', 'subaru', 'suburban', 'sunbird', 'sundance', 'sunfire', 'superamerica', 'supersports', 'supra', 'supreme', 'suv', 'suzuki', 'sv6', 'svt', 'svx', 'swift', 'sx4', 'syclone', 't100', 'tacoma', 'tahoe', 'taurus', 'tc', 'tempo', 'tercel', 'terrain', 'terraza', 'tesla', 'thunderbird', 'tiburon', 'tiguan', 'titan', 'tl', 'tlx', 'toronado', 'torrent', 'touareg', 'touring', 'town', 'toyota', 'trac', 'tracker', 'trailblazer', 'trans', 'transit', 'traverse', 'trax', 'tribeca', 'tribute', 'truck', 'tsx', 'tt', 'tts', 'tucson', 'tundra', 'tuner', 'turismo', 'typhoon', 'unknown', 'unleaded', 'uplander', 'v12', 'v40', 'v50', 'v60', 'v70', 'v8', 'v90', 'van', 'vanagon', 'vandura', 'vanquish', 'vantage', 'vanwagon', 'veloster', 'venture', 'venza', 'veracruz', 'verano', 'verona', 'versa', 'veyron', 'vibe', 'victoria', 'vigor', 'vii', 'viii', 'viper', 'virage', 'vitara', 'volkswagen', 'volvo', 'voyager', 'wagon', 'ward', 'wheel', 'windstar', 'wraith', 'wrx', 'x1', 'x3', 'x4', 'x5', 'x6', 'xa', 'xb', 'xc', 'xc60', 'xc70', 'xc90', 'xd', 'xg300', 'xg350', 'xl', 'xl7', 'xlr', 'xt', 'xt5', 'xterra', 'xts', 'xuv', 'xv', 'yaris', 'yorker', 'yukon', 'z3', 'z4', 'z71', 'z8', 'zdx', 'zephyr']\n"
     ]
    }
   ],
   "source": [
    "tfidf_vec = TfidfVectorizer()\n",
    "tfidf_vec.fit(df2)\n",
    "print(sorted(tfidf_vec.vocabulary_))\n",
    "vector = tfidf_vec.transform(df2)"
   ]
  },
  {
   "attachments": {},
   "cell_type": "markdown",
   "metadata": {},
   "source": [
    "Word2Vec"
   ]
  },
  {
   "cell_type": "code",
   "execution_count": 75,
   "metadata": {},
   "outputs": [],
   "source": [
    "model = Word2Vec(sent, min_count=1, vector_size=50, workers=3, window=3, sg=1)"
   ]
  },
  {
   "cell_type": "code",
   "execution_count": 76,
   "metadata": {},
   "outputs": [
    {
     "data": {
      "text/plain": [
       "array([-0.02467795,  0.12949774,  0.01945003, -0.07404717, -0.07622898,\n",
       "       -0.22535115,  0.01007154,  0.2750467 , -0.12015145, -0.07350729,\n",
       "        0.08122371,  0.03654144,  0.06054086, -0.0279253 , -0.03835192,\n",
       "        0.18041871,  0.14997883,  0.29332575, -0.12456731, -0.33144012,\n",
       "       -0.02205079, -0.0496365 ,  0.23544556,  0.07241936,  0.21748145,\n",
       "       -0.01404196, -0.0541056 ,  0.40538234, -0.05844185, -0.02621067,\n",
       "        0.04348486,  0.04836166,  0.06057474,  0.01080558,  0.06499628,\n",
       "       -0.10815413,  0.21306634,  0.01690482,  0.06297053,  0.05057763,\n",
       "        0.09133527, -0.04431102, -0.2250042 ,  0.07447414,  0.3622559 ,\n",
       "        0.0809232 , -0.01289125, -0.15980566,  0.03139426,  0.05939862],\n",
       "      dtype=float32)"
      ]
     },
     "execution_count": 76,
     "metadata": {},
     "output_type": "execute_result"
    }
   ],
   "source": [
    "model.wv.get_vector(\"Toyota Camry\")"
   ]
  },
  {
   "attachments": {},
   "cell_type": "markdown",
   "metadata": {},
   "source": [
    "Compare Similarity"
   ]
  },
  {
   "cell_type": "code",
   "execution_count": 77,
   "metadata": {},
   "outputs": [
    {
     "data": {
      "text/plain": [
       "0.80355424"
      ]
     },
     "execution_count": 77,
     "metadata": {},
     "output_type": "execute_result"
    }
   ],
   "source": [
    "model.wv.similarity(\"Porsche 718 Cayman\", \"Nissan Van\")"
   ]
  },
  {
   "cell_type": "code",
   "execution_count": 78,
   "metadata": {},
   "outputs": [
    {
     "data": {
      "text/plain": [
       "[('Lamborghini Murcielago', 0.9862064719200134),\n",
       " ('Ferrari 575M', 0.9844840168952942),\n",
       " ('Ferrari 456M', 0.9830684065818787),\n",
       " ('Tesla Model S', 0.9819356203079224),\n",
       " ('BMW 1 Series', 0.9811258316040039),\n",
       " ('Mercedes-Benz SL-Class', 0.9808278679847717),\n",
       " ('Ferrari 599', 0.9805040955543518),\n",
       " ('BMW Z4', 0.9796039462089539),\n",
       " ('Nissan GT-R', 0.9783667922019958),\n",
       " ('Ford Shelby GT500', 0.9780237674713135)]"
      ]
     },
     "execution_count": 78,
     "metadata": {},
     "output_type": "execute_result"
    }
   ],
   "source": [
    "model.wv.most_similar(\"Mercedes-Benz SLK-Class\")"
   ]
  }
 ],
 "metadata": {
  "kernelspec": {
   "display_name": ".venv",
   "language": "python",
   "name": "python3"
  },
  "language_info": {
   "codemirror_mode": {
    "name": "ipython",
    "version": 3
   },
   "file_extension": ".py",
   "mimetype": "text/x-python",
   "name": "python",
   "nbconvert_exporter": "python",
   "pygments_lexer": "ipython3",
   "version": "3.8.2"
  },
  "orig_nbformat": 4
 },
 "nbformat": 4,
 "nbformat_minor": 2
}
